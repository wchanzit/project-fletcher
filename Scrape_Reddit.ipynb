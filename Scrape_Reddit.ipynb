{
 "cells": [
  {
   "cell_type": "code",
   "execution_count": 2,
   "metadata": {
    "collapsed": true
   },
   "outputs": [],
   "source": [
    "import pandas as pd\n",
    "import numpy as np\n",
    "import praw"
   ]
  },
  {
   "cell_type": "markdown",
   "metadata": {},
   "source": [
    "## Connect to Reddit"
   ]
  },
  {
   "cell_type": "code",
   "execution_count": 4,
   "metadata": {
    "collapsed": true
   },
   "outputs": [],
   "source": [
    "reddit = praw.Reddit(client_id = '9p5TdvPWFQ2rLQ',\n",
    "                     client_secret = 'dOvpA6FJO7UwkzbK6hRpbkX08gA',\n",
    "                     user_agent = 'test')"
   ]
  },
  {
   "cell_type": "markdown",
   "metadata": {},
   "source": [
    "## From PRAW Tutorial"
   ]
  },
  {
   "cell_type": "markdown",
   "metadata": {},
   "source": [
    "#### https://praw.readthedocs.io/en/latest/tutorials/comments.html"
   ]
  },
  {
   "cell_type": "markdown",
   "metadata": {},
   "source": [
    "### Obtain a Submission Object"
   ]
  },
  {
   "cell_type": "code",
   "execution_count": 7,
   "metadata": {
    "collapsed": false
   },
   "outputs": [],
   "source": [
    "# Submission URL:\n",
    "# https://www.reddit.com/r/funny/comments/3g1jfi/buttons/\n",
    "\n",
    "# With URL\n",
    "submission = reddit.submission(url='https://www.reddit.com/r/funny/comments/3g1jfi/buttons/')\n",
    "\n",
    "# With comment ID\n",
    "#submission = reddit.submission(id='3g1jfi')"
   ]
  },
  {
   "cell_type": "markdown",
   "metadata": {},
   "source": [
    "#### This is a useful thing to remember in general. (Copy to a reference notebook?)"
   ]
  },
  {
   "cell_type": "code",
   "execution_count": 57,
   "metadata": {
    "collapsed": true
   },
   "outputs": [],
   "source": [
    "def method_list(obj):\n",
    "    return [method for method in dir(obj) if callable(getattr(obj, method)) and not method.startswith(\"__\")]"
   ]
  },
  {
   "cell_type": "code",
   "execution_count": 60,
   "metadata": {
    "collapsed": false
   },
   "outputs": [
    {
     "data": {
      "text/plain": [
       "True"
      ]
     },
     "execution_count": 60,
     "metadata": {},
     "output_type": "execute_result"
    }
   ],
   "source": [
    "method_list_submission2 = method_list(submission)"
   ]
  },
  {
   "cell_type": "code",
   "execution_count": null,
   "metadata": {
    "collapsed": true
   },
   "outputs": [],
   "source": [
    "# With a submission object we can then interact with its CommentForest through the submission’s comments attribute.\n",
    "# A CommentForest is a list of top-level comments each of which contains a CommentForest of replies."
   ]
  },
  {
   "cell_type": "code",
   "execution_count": 55,
   "metadata": {
    "collapsed": false
   },
   "outputs": [],
   "source": [
    "# Not sure how this filters comments\n",
    "# Does top-down, but does that include children or just parent nodes?\n",
    "# What are the tie-breakers?\n",
    "for top_level_comment in submission.comments:\n",
    "    print(top_level_comment.body)"
   ]
  },
  {
   "cell_type": "markdown",
   "metadata": {},
   "source": [
    "### Exploring Submission Object"
   ]
  },
  {
   "cell_type": "code",
   "execution_count": 50,
   "metadata": {
    "collapsed": false
   },
   "outputs": [
    {
     "name": "stdout",
     "output_type": "stream",
     "text": [
      "1438918826.0\n"
     ]
    }
   ],
   "source": [
    "print(submission.created)\n",
    "\n",
    "#author is the OP username\n",
    "#likes returned None\n",
    "#name is t3_3gljfi (3gljfi is the post id)\n",
    "#num_comments is 775\n",
    "#num_reports is None\n",
    "#score is 36875\n",
    "#title is Buttons\n",
    "#view_count is None\n",
    "#visited is False\n"
   ]
  },
  {
   "cell_type": "markdown",
   "metadata": {},
   "source": [
    "### CommentForest Object has a method replace_more()"
   ]
  },
  {
   "cell_type": "code",
   "execution_count": 30,
   "metadata": {
    "collapsed": false
   },
   "outputs": [
    {
     "name": "stdout",
     "output_type": "stream",
     "text": [
      "CPU times: user 1.11 ms, sys: 18 µs, total: 1.13 ms\n",
      "Wall time: 1.14 ms\n"
     ]
    }
   ],
   "source": [
    "%%time\n",
    "\n",
    "sub_comments = []\n",
    "submission.comments.replace_more(limit=0)\n",
    "\n",
    "for top_level_comment in submission.comments:\n",
    "#    print(top_level_comment.body)\n",
    "    sub_comments.append(top_level_comment)\n"
   ]
  },
  {
   "cell_type": "markdown",
   "metadata": {},
   "source": [
    "### "
   ]
  },
  {
   "cell_type": "code",
   "execution_count": 35,
   "metadata": {
    "collapsed": false
   },
   "outputs": [],
   "source": [
    "submission.comments.replace_more(limit=0)\n",
    "comment_test = submission.comments.list()[0]\n",
    "\n"
   ]
  },
  {
   "cell_type": "code",
   "execution_count": null,
   "metadata": {
    "collapsed": true
   },
   "outputs": [],
   "source": [
    "submission.comments.replace_more(limit=0)\n",
    "for comment in submission.comments.list():\n",
    "    print(comment.body)\n",
    "    #author, depth, score\n",
    "    \n",
    "    print(comment.time)\n",
    "    "
   ]
  },
  {
   "cell_type": "code",
   "execution_count": null,
   "metadata": {
    "collapsed": true
   },
   "outputs": [],
   "source": [
    "# from CommentForest documentation, toward bottom\n",
    "# while True:\n",
    "#     try:\n",
    "#         submission.comments.replace_more()\n",
    "#         break\n",
    "#     except PossibleExceptions:\n",
    "#         print('Handling replace_more exception')\n",
    "#         sleep(1)"
   ]
  },
  {
   "cell_type": "markdown",
   "metadata": {},
   "source": [
    "## Try with a Submission on Subreddit 'Datascience'"
   ]
  },
  {
   "cell_type": "code",
   "execution_count": null,
   "metadata": {
    "collapsed": true
   },
   "outputs": [],
   "source": [
    "#'https://www.reddit.com/r/datascience/comments/6bo3mk/xkcd_machine_learning/dho6cmf/'"
   ]
  },
  {
   "cell_type": "markdown",
   "metadata": {},
   "source": [
    "## AB"
   ]
  },
  {
   "cell_type": "code",
   "execution_count": null,
   "metadata": {
    "collapsed": true
   },
   "outputs": [],
   "source": [
    "# May expand to subreddits other than \"datascience\", but let's stick to that one for now.\n",
    "# If and when expansion occurrs, generate a list and iterate over it or something like that.\n",
    "subreddit = reddit.subreddit('datascience')"
   ]
  },
  {
   "cell_type": "markdown",
   "metadata": {},
   "source": [
    "### Some reference timestamps"
   ]
  },
  {
   "cell_type": "code",
   "execution_count": null,
   "metadata": {
    "collapsed": true
   },
   "outputs": [],
   "source": [
    "# http://www.unixtimestamp.com/index.php\n",
    "1451606400 #2016-01-01, 00:00:00\n",
    "1483228800 #2017-01-01, 00:00:00\n",
    "\n",
    "(1483228800 - 1451606400)/60/60/24"
   ]
  },
  {
   "cell_type": "markdown",
   "metadata": {},
   "source": [
    "## Let's Play Around with the Subreddit Object"
   ]
  },
  {
   "cell_type": "markdown",
   "metadata": {},
   "source": [
    "#### (What is the relationship between the objects Subreddit and Submission?)"
   ]
  },
  {
   "cell_type": "code",
   "execution_count": 71,
   "metadata": {
    "collapsed": false
   },
   "outputs": [],
   "source": [
    "def create_timestamp(start, days):\n",
    "    daysecs = 24*60*60\n",
    "    end = start + daysecs*days\n",
    "    \n",
    "    return 'timestamp:{}..{}'.format(int(start), int(end))"
   ]
  },
  {
   "cell_type": "code",
   "execution_count": null,
   "metadata": {
    "collapsed": true
   },
   "outputs": [],
   "source": [
    "def calc_end(start, days):\n",
    "    daysecs = 24*60*60\n",
    "    return start + daysecs*days"
   ]
  },
  {
   "cell_type": "code",
   "execution_count": null,
   "metadata": {
    "collapsed": true
   },
   "outputs": [],
   "source": [
    "def get_stuff(subreddit, start, days, loops):\n",
    "\n",
    "    comments = []\n",
    "    post_info = []\n",
    "\n",
    "    t_stamp = create_timestamp(start, days)\n",
    "\n",
    "    #sub = reddit.subreddit(subreddit).search(t_stamp, syntax = 'cloudsearch', limit = None)\n",
    "    sub = reddit.subreddit(subreddit).submissions(start, calc_end(start, days))\n",
    "\n",
    "    for post in sub:\n",
    "\n",
    "        pi = {}\n",
    "        pi['title'] = post.title\n",
    "        pi['score']= post.score\n",
    "        pi['id'] = post.id\n",
    "        pi['selftext'] = post.selftext\n",
    "        pi['created'] = post.created\n",
    "        pi['name'] = str(post.author)\n",
    "\n",
    "        cs = {}\n",
    "        cs['id'] = post.id\n",
    "\n",
    "        post.comments.replace_more(limit = 0)\n",
    "\n",
    "        for i, comment in enumerate(post.comments.list()): #z, y\n",
    "            name = 'comment{}'.format(i)\n",
    "            cs[name] = comment.body\n",
    "\n",
    "        post_info.append(pi)\n",
    "        comments.append(cs)\n",
    "\n",
    "        if i >= 10:\n",
    "            break\n",
    "        suicide_comments.insert_one(cs)\n",
    "        suicide_posts.insert_one(pi)\n",
    "\n",
    "    return comments, post_info"
   ]
  },
  {
   "cell_type": "code",
   "execution_count": null,
   "metadata": {
    "collapsed": true
   },
   "outputs": [],
   "source": [
    "for num_days in range(0.25, 1.25, 0.25):\n",
    "    sub = (reddit.subreddit('datascience')\n",
    "           .search(create_timestamp(1483228800, numdays), syntax = 'cloudsearch', limit = None))\n",
    "    print(len(list(sub)))"
   ]
  },
  {
   "cell_type": "code",
   "execution_count": null,
   "metadata": {
    "collapsed": true
   },
   "outputs": [],
   "source": []
  },
  {
   "cell_type": "code",
   "execution_count": null,
   "metadata": {
    "collapsed": true
   },
   "outputs": [],
   "source": []
  }
 ],
 "metadata": {
  "kernelspec": {
   "display_name": "Python 3",
   "language": "python",
   "name": "python3"
  },
  "language_info": {
   "codemirror_mode": {
    "name": "ipython",
    "version": 3
   },
   "file_extension": ".py",
   "mimetype": "text/x-python",
   "name": "python",
   "nbconvert_exporter": "python",
   "pygments_lexer": "ipython3",
   "version": "3.6.0"
  }
 },
 "nbformat": 4,
 "nbformat_minor": 2
}
