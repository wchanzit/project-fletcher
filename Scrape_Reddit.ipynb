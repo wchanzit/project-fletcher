{
 "cells": [
  {
   "cell_type": "code",
   "execution_count": 16,
   "metadata": {
    "collapsed": true
   },
   "outputs": [],
   "source": [
    "import pandas as pd\n",
    "import numpy as np\n",
    "\n",
    "import praw\n",
    "\n",
    "from pymongo import MongoClient"
   ]
  },
  {
   "cell_type": "markdown",
   "metadata": {},
   "source": [
    "## Set Up MongoDB"
   ]
  },
  {
   "cell_type": "code",
   "execution_count": 3,
   "metadata": {
    "collapsed": true
   },
   "outputs": [],
   "source": [
    "client = MongoClient(port=12345) # this is the port set by the SSH tunnel\n",
    "db = client.new_cool_db\n",
    "\n",
    "#reddit_datascience_posts\n",
    "#reddit_datascience_comments\n",
    "        "
   ]
  },
  {
   "cell_type": "code",
   "execution_count": 4,
   "metadata": {
    "collapsed": false
   },
   "outputs": [
    {
     "data": {
      "text/plain": [
       "[]"
      ]
     },
     "execution_count": 4,
     "metadata": {},
     "output_type": "execute_result"
    }
   ],
   "source": [
    "# print collection names\n",
    "db.collection_names()\n",
    "# col = db.testData\n",
    "# col\n",
    "\n",
    "# # print each document\n",
    "# for x in col.find():\n",
    "#      print(x)"
   ]
  },
  {
   "cell_type": "code",
   "execution_count": null,
   "metadata": {
    "collapsed": true
   },
   "outputs": [],
   "source": []
  },
  {
   "cell_type": "code",
   "execution_count": null,
   "metadata": {
    "collapsed": true
   },
   "outputs": [],
   "source": []
  },
  {
   "cell_type": "markdown",
   "metadata": {},
   "source": [
    "## Connect to Reddit"
   ]
  },
  {
   "cell_type": "code",
   "execution_count": 19,
   "metadata": {
    "collapsed": true
   },
   "outputs": [],
   "source": [
    "reddit = praw.Reddit(client_id = '9p5TdvPWFQ2rLQ',\n",
    "                     client_secret = 'dOvpA6FJO7UwkzbK6hRpbkX08gA',\n",
    "                     user_agent = 'test')"
   ]
  },
  {
   "cell_type": "markdown",
   "metadata": {},
   "source": [
    "## Some Reference Values"
   ]
  },
  {
   "cell_type": "code",
   "execution_count": 31,
   "metadata": {
    "collapsed": false
   },
   "outputs": [
    {
     "name": "stdout",
     "output_type": "stream",
     "text": [
      "2011:  365.0\n",
      "2012:  366.0\n",
      "2013:  365.0\n",
      "2014:  365.0\n",
      "2015:  365.0\n",
      "2016:  366.0\n"
     ]
    }
   ],
   "source": [
    "# Reference subreddit: datascience\n",
    "# May expand to other subreddits, but let's stick to that one for now.\n",
    "# If and when expansion occurrs, generate a list and iterate over it or something like that.\n",
    "\n",
    "# Reference post: 'https://www.reddit.com/r/datascience/comments/6bo3mk/xkcd_machine_learning/dho6cmf/'\n",
    "\n",
    "# Reference unix timestamps\n",
    "# source: http://www.unixtimestamp.com/index.php\n",
    "unix20110101 = 1293840000 #2011-01-01, 00:00:00\n",
    "unix20120101 = 1325376000 #2012-01-01, 00:00:00\n",
    "unix20130101 = 1356998400 #2013-01-01, 00:00:00\n",
    "unix20140101 = 1388534400 #2014-01-01, 00:00:00\n",
    "unix20150101 = 1420070400 #2015-01-01, 00:00:00\n",
    "unix20160101 = 1451606400 #2016-01-01, 00:00:00\n",
    "unix20170101 = 1483228800 #2017-01-01, 00:00:00\n",
    "\n",
    "print('2011: ', (unix20120101 - unix20110101)/60/60/24)\n",
    "print('2012: ', (unix20130101 - unix20120101)/60/60/24)\n",
    "print('2013: ', (unix20140101 - unix20130101)/60/60/24)\n",
    "print('2014: ', (unix20150101 - unix20140101)/60/60/24)\n",
    "print('2015: ', (unix20160101 - unix20150101)/60/60/24)\n",
    "print('2016: ', (unix20170101 - unix20160101)/60/60/24)"
   ]
  },
  {
   "cell_type": "markdown",
   "metadata": {},
   "source": [
    "## Helpful Function Definition"
   ]
  },
  {
   "cell_type": "code",
   "execution_count": 22,
   "metadata": {
    "collapsed": true
   },
   "outputs": [],
   "source": [
    "def calc_end(start, days):\n",
    "    daysecs = 24*60*60\n",
    "    return start + daysecs*days"
   ]
  },
  {
   "cell_type": "code",
   "execution_count": 23,
   "metadata": {
    "collapsed": true
   },
   "outputs": [],
   "source": [
    "def get_stuff(subreddit, start, days, db_posts, db_comments, inPlace = False):\n",
    "\n",
    "    comments = []\n",
    "    post_info = []\n",
    "\n",
    "    sub = reddit.subreddit(subreddit).submissions(start, calc_end(start, days))\n",
    "\n",
    "    for post in sub:\n",
    "\n",
    "        pi = {}\n",
    "        pi['title'] = post.title\n",
    "        pi['score']= post.score\n",
    "        pi['id'] = post.id\n",
    "        pi['selftext'] = post.selftext\n",
    "        pi['created'] = post.created\n",
    "        pi['name'] = str(post.author)\n",
    "\n",
    "        cs = {}\n",
    "        cs['post_id'] = post.id\n",
    "\n",
    "        post.comments.replace_more(limit = 0)\n",
    "\n",
    "        for i, comment in enumerate(post.comments.list()): #z, y\n",
    "            comment_num = 'comment{}'.format(i)\n",
    "            cs[comment_num] = comment.body\n",
    "\n",
    "        if not inPlace:\n",
    "            post_info.append(pi)\n",
    "            comments.append(cs)\n",
    "\n",
    "        db_posts.insert_one(pi)\n",
    "        db_comments.insert_one(cs)\n",
    "\n",
    "    if not inPlace:\n",
    "        return comments, post_info\n",
    "    else:\n",
    "        return None"
   ]
  },
  {
   "cell_type": "code",
   "execution_count": 35,
   "metadata": {
    "collapsed": false
   },
   "outputs": [
    {
     "name": "stdout",
     "output_type": "stream",
     "text": [
      "2\n",
      "40\n",
      "82\n",
      "120\n",
      "164\n",
      "167\n"
     ]
    }
   ],
   "source": [
    "for num_days in np.append(np.linspace(1, 30, 5), [31]):\n",
    "    sub = (reddit.subreddit('datascience')\n",
    "           .search(create_timestamp(unix20160101, num_days), syntax = 'cloudsearch', limit = None))\n",
    "    print(len(list(sub)))"
   ]
  },
  {
   "cell_type": "code",
   "execution_count": null,
   "metadata": {
    "collapsed": true
   },
   "outputs": [],
   "source": []
  },
  {
   "cell_type": "markdown",
   "metadata": {},
   "source": [
    "## Obtain and Store Data"
   ]
  },
  {
   "cell_type": "code",
   "execution_count": null,
   "metadata": {
    "collapsed": true
   },
   "outputs": [],
   "source": []
  },
  {
   "cell_type": "code",
   "execution_count": null,
   "metadata": {
    "collapsed": true
   },
   "outputs": [],
   "source": []
  }
 ],
 "metadata": {
  "kernelspec": {
   "display_name": "Python 3",
   "language": "python",
   "name": "python3"
  },
  "language_info": {
   "codemirror_mode": {
    "name": "ipython",
    "version": 3
   },
   "file_extension": ".py",
   "mimetype": "text/x-python",
   "name": "python",
   "nbconvert_exporter": "python",
   "pygments_lexer": "ipython3",
   "version": "3.6.0"
  }
 },
 "nbformat": 4,
 "nbformat_minor": 2
}
