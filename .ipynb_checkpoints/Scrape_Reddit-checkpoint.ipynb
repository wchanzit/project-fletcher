{
 "cells": [
  {
   "cell_type": "code",
   "execution_count": 3,
   "metadata": {
    "collapsed": true
   },
   "outputs": [],
   "source": [
    "import pandas as pd\n",
    "import numpy as np\n",
    "\n",
    "import praw\n",
    "\n",
    "import json #unsure if this is needed\n",
    "from pymongo import MongoClient"
   ]
  },
  {
   "cell_type": "markdown",
   "metadata": {},
   "source": [
    "## Connect to Reddit"
   ]
  },
  {
   "cell_type": "code",
   "execution_count": 6,
   "metadata": {
    "collapsed": true
   },
   "outputs": [],
   "source": [
    "reddit = praw.Reddit(client_id = '9p5TdvPWFQ2rLQ',\n",
    "                     client_secret = 'dOvpA6FJO7UwkzbK6hRpbkX08gA',\n",
    "                     user_agent = 'test')"
   ]
  },
  {
   "cell_type": "markdown",
   "metadata": {},
   "source": [
    "## Some Reference Values"
   ]
  },
  {
   "cell_type": "code",
   "execution_count": 155,
   "metadata": {
    "collapsed": false
   },
   "outputs": [
    {
     "name": "stdout",
     "output_type": "stream",
     "text": [
      "2011:  365.0\n",
      "2012:  366.0\n",
      "2013:  365.0\n",
      "2014:  365.0\n",
      "2015:  365.0\n",
      "2016:  366.0\n",
      "total:  2192.0\n"
     ]
    }
   ],
   "source": [
    "# Reference subreddit: datascience\n",
    "# May expand to other subreddits, but let's stick to that one for now.\n",
    "# If and when expansion occurrs, generate a list and iterate over it or something like that.\n",
    "\n",
    "# Reference post: 'https://www.reddit.com/r/datascience/comments/6bo3mk/xkcd_machine_learning/dho6cmf/'\n",
    "\n",
    "# Reference unix timestamps\n",
    "# source: http://www.unixtimestamp.com/index.php\n",
    "unix20110101 = 1293840000 #2011-01-01, 00:00:00\n",
    "unix20120101 = 1325376000 #2012-01-01, 00:00:00\n",
    "unix20130101 = 1356998400 #2013-01-01, 00:00:00\n",
    "unix20140101 = 1388534400 #2014-01-01, 00:00:00\n",
    "unix20150101 = 1420070400 #2015-01-01, 00:00:00\n",
    "unix20160101 = 1451606400 #2016-01-01, 00:00:00\n",
    "unix20170101 = 1483228800 #2017-01-01, 00:00:00\n",
    "\n",
    "print('2011: ', (unix20120101 - unix20110101)/60/60/24)\n",
    "print('2012: ', (unix20130101 - unix20120101)/60/60/24)\n",
    "print('2013: ', (unix20140101 - unix20130101)/60/60/24)\n",
    "print('2014: ', (unix20150101 - unix20140101)/60/60/24)\n",
    "print('2015: ', (unix20160101 - unix20150101)/60/60/24)\n",
    "print('2016: ', (unix20170101 - unix20160101)/60/60/24)\n",
    "print('total: ', (unix20170101 - unix20110101)/60/60/24)"
   ]
  },
  {
   "cell_type": "markdown",
   "metadata": {},
   "source": [
    "## Helpful Function Definition"
   ]
  },
  {
   "cell_type": "code",
   "execution_count": 8,
   "metadata": {
    "collapsed": true
   },
   "outputs": [],
   "source": [
    "def calc_end(start, days):\n",
    "    daysecs = 24*60*60\n",
    "    return start + daysecs*days"
   ]
  },
  {
   "cell_type": "code",
   "execution_count": 9,
   "metadata": {
    "collapsed": true
   },
   "outputs": [],
   "source": [
    "def get_stuff(obj_reddit, subreddit, start, days, clcn_posts, clcn_comments, inPlace = False):\n",
    "\n",
    "    comments = []\n",
    "    post_info = []\n",
    "\n",
    "    sub = obj_reddit.subreddit(subreddit).submissions(start, calc_end(start, days))\n",
    "\n",
    "    for post in sub:\n",
    "\n",
    "        pi = {}\n",
    "        pi['title'] = post.title\n",
    "        pi['score']= post.score\n",
    "        pi['id'] = post.id\n",
    "        pi['selftext'] = post.selftext\n",
    "        pi['created'] = post.created\n",
    "        pi['name'] = str(post.author)\n",
    "\n",
    "        cs = {}\n",
    "        cs['post_id'] = post.id\n",
    "\n",
    "        post.comments.replace_more(limit = 0)\n",
    "\n",
    "        # Turn this into a dict comprehension?\n",
    "        for i, comment in enumerate(post.comments.list()): #z, y\n",
    "            comment_num = 'comment{}'.format(i)\n",
    "            cs[comment_num] = comment.body\n",
    "\n",
    "        if not inPlace:\n",
    "            post_info.append(pi)\n",
    "            comments.append(cs)\n",
    "\n",
    "        clcn_posts.insert_one(pi)\n",
    "        clcn_comments.insert_one(cs)\n",
    "\n",
    "    if not inPlace:\n",
    "        return comments, post_info\n",
    "    else:\n",
    "        return None"
   ]
  },
  {
   "cell_type": "markdown",
   "metadata": {},
   "source": [
    "## Set Up MongoDB"
   ]
  },
  {
   "cell_type": "code",
   "execution_count": 20,
   "metadata": {
    "collapsed": true
   },
   "outputs": [],
   "source": [
    "client = MongoClient(port=12345) # this is the port set by the SSH tunnel"
   ]
  },
  {
   "cell_type": "code",
   "execution_count": 145,
   "metadata": {
    "collapsed": false
   },
   "outputs": [
    {
     "name": "stdout",
     "output_type": "stream",
     "text": [
      "2\n",
      "39\n",
      "80\n",
      "121\n",
      "165\n",
      "167\n"
     ]
    }
   ],
   "source": [
    "for num_days in np.append(np.linspace(1, 30, 5), [31]):\n",
    "    sub = (reddit.subreddit('datascience')\n",
    "           .submissions(unix20160101, calc_end(unix20160101, num_days)))\n",
    "    print(len(list(sub)))"
   ]
  },
  {
   "cell_type": "code",
   "execution_count": 153,
   "metadata": {
    "collapsed": false
   },
   "outputs": [
    {
     "name": "stdout",
     "output_type": "stream",
     "text": [
      "104\n",
      "47\n",
      "20\n"
     ]
    }
   ],
   "source": [
    "for start in [unix20130101, unix20120101, unix20110101]:\n",
    "    sub = (reddit.subreddit('datascience')\n",
    "           .submissions(start, calc_end(start, 365)))\n",
    "    print(len(list(sub)))"
   ]
  },
  {
   "cell_type": "code",
   "execution_count": 165,
   "metadata": {
    "collapsed": false
   },
   "outputs": [
    {
     "name": "stdout",
     "output_type": "stream",
     "text": [
      "5\n"
     ]
    }
   ],
   "source": [
    "sub = (reddit.subreddit('datascience')\n",
    "           .submissions(unix20150101, calc_end(unix20150101, 2)))\n",
    "print(len(list(sub)))"
   ]
  },
  {
   "cell_type": "markdown",
   "metadata": {},
   "source": [
    "## Test on One Day's Posts"
   ]
  },
  {
   "cell_type": "code",
   "execution_count": 90,
   "metadata": {
    "collapsed": true
   },
   "outputs": [],
   "source": [
    "db_posts = client.fletcher_reddit_datascience_posts\n",
    "db_comments = client.fletcher_reddit_datascience_comments"
   ]
  },
  {
   "cell_type": "code",
   "execution_count": 91,
   "metadata": {
    "collapsed": true
   },
   "outputs": [],
   "source": [
    "posts_test = db_posts.test\n",
    "comments_test = db_comments.test"
   ]
  },
  {
   "cell_type": "code",
   "execution_count": 92,
   "metadata": {
    "collapsed": false
   },
   "outputs": [
    {
     "data": {
      "text/plain": [
       "['admin', 'local', 'shard_db']"
      ]
     },
     "execution_count": 92,
     "metadata": {},
     "output_type": "execute_result"
    }
   ],
   "source": [
    "client.database_names()"
   ]
  },
  {
   "cell_type": "code",
   "execution_count": 93,
   "metadata": {
    "collapsed": false
   },
   "outputs": [
    {
     "name": "stdout",
     "output_type": "stream",
     "text": [
      "CPU times: user 29.7 ms, sys: 5.28 ms, total: 34.9 ms\n",
      "Wall time: 473 ms\n"
     ]
    }
   ],
   "source": [
    "%%time\n",
    "\n",
    "# Test it out\n",
    "posts1, comments1 = get_stuff(reddit, 'datascience', unix20160101, 1, posts_test, comments_test)"
   ]
  },
  {
   "cell_type": "code",
   "execution_count": 94,
   "metadata": {
    "collapsed": false
   },
   "outputs": [
    {
     "data": {
      "text/plain": [
       "['admin',\n",
       " 'fletcher_reddit_datascience_comments',\n",
       " 'fletcher_reddit_datascience_posts',\n",
       " 'local',\n",
       " 'shard_db']"
      ]
     },
     "execution_count": 94,
     "metadata": {},
     "output_type": "execute_result"
    }
   ],
   "source": [
    "client.database_names()"
   ]
  },
  {
   "cell_type": "code",
   "execution_count": 95,
   "metadata": {
    "collapsed": false
   },
   "outputs": [
    {
     "data": {
      "text/plain": [
       "['test']"
      ]
     },
     "execution_count": 95,
     "metadata": {},
     "output_type": "execute_result"
    }
   ],
   "source": [
    "db_posts.collection_names()"
   ]
  },
  {
   "cell_type": "code",
   "execution_count": 96,
   "metadata": {
    "collapsed": false
   },
   "outputs": [
    {
     "data": {
      "text/plain": [
       "['test']"
      ]
     },
     "execution_count": 96,
     "metadata": {},
     "output_type": "execute_result"
    }
   ],
   "source": [
    "db_comments.collection_names()"
   ]
  },
  {
   "cell_type": "code",
   "execution_count": 97,
   "metadata": {
    "collapsed": false
   },
   "outputs": [
    {
     "name": "stdout",
     "output_type": "stream",
     "text": [
      "posts_count:  2 comments_count:  2\n"
     ]
    }
   ],
   "source": [
    "print('posts_count: ', posts_test.count(), 'comments_count: ', comments_test.count())"
   ]
  },
  {
   "cell_type": "code",
   "execution_count": 98,
   "metadata": {
    "collapsed": false
   },
   "outputs": [],
   "source": [
    "posts_test.drop()"
   ]
  },
  {
   "cell_type": "code",
   "execution_count": 99,
   "metadata": {
    "collapsed": false
   },
   "outputs": [
    {
     "data": {
      "text/plain": [
       "['admin', 'fletcher_reddit_datascience_comments', 'local', 'shard_db']"
      ]
     },
     "execution_count": 99,
     "metadata": {},
     "output_type": "execute_result"
    }
   ],
   "source": [
    "client.database_names()"
   ]
  },
  {
   "cell_type": "code",
   "execution_count": 100,
   "metadata": {
    "collapsed": true
   },
   "outputs": [],
   "source": [
    "comments_test.drop()"
   ]
  },
  {
   "cell_type": "code",
   "execution_count": 101,
   "metadata": {
    "collapsed": false
   },
   "outputs": [
    {
     "data": {
      "text/plain": [
       "['admin', 'local', 'shard_db']"
      ]
     },
     "execution_count": 101,
     "metadata": {},
     "output_type": "execute_result"
    }
   ],
   "source": [
    "client.database_names()"
   ]
  },
  {
   "cell_type": "markdown",
   "metadata": {},
   "source": [
    "## Obtain and Store Data"
   ]
  },
  {
   "cell_type": "code",
   "execution_count": 115,
   "metadata": {
    "collapsed": true
   },
   "outputs": [],
   "source": [
    "db_posts = client.fletcher_reddit_datascience_posts\n",
    "db_comments = client.fletcher_reddit_datascience_comments"
   ]
  },
  {
   "cell_type": "code",
   "execution_count": 174,
   "metadata": {
    "collapsed": false
   },
   "outputs": [],
   "source": [
    "posts_201601 = db_posts.data201601\n",
    "comments_201601 = db_comments.data201601"
   ]
  },
  {
   "cell_type": "code",
   "execution_count": 175,
   "metadata": {
    "collapsed": false
   },
   "outputs": [
    {
     "data": {
      "text/plain": [
       "['admin', 'db_fletcher', 'local', 'shard_db']"
      ]
     },
     "execution_count": 175,
     "metadata": {},
     "output_type": "execute_result"
    }
   ],
   "source": [
    "client.database_names()"
   ]
  },
  {
   "cell_type": "code",
   "execution_count": 176,
   "metadata": {
    "collapsed": false
   },
   "outputs": [
    {
     "name": "stdout",
     "output_type": "stream",
     "text": [
      "CPU times: user 1.43 s, sys: 109 ms, total: 1.54 s\n",
      "Wall time: 22.7 s\n"
     ]
    }
   ],
   "source": [
    "%%time\n",
    "\n",
    "# Test it out\n",
    "posts201601, comments201601 = get_stuff(reddit, 'datascience', unix20160101, 31, posts_201601, comments_201601)"
   ]
  },
  {
   "cell_type": "code",
   "execution_count": 177,
   "metadata": {
    "collapsed": false
   },
   "outputs": [
    {
     "data": {
      "text/plain": [
       "['admin',\n",
       " 'db_fletcher',\n",
       " 'fletcher_reddit_datascience_comments',\n",
       " 'fletcher_reddit_datascience_posts',\n",
       " 'local',\n",
       " 'shard_db']"
      ]
     },
     "execution_count": 177,
     "metadata": {},
     "output_type": "execute_result"
    }
   ],
   "source": [
    "client.database_names()"
   ]
  },
  {
   "cell_type": "code",
   "execution_count": 178,
   "metadata": {
    "collapsed": false
   },
   "outputs": [
    {
     "name": "stdout",
     "output_type": "stream",
     "text": [
      "['data201601']\n",
      "['data201601']\n"
     ]
    }
   ],
   "source": [
    "print(db_posts.collection_names())\n",
    "print(db_comments.collection_names())"
   ]
  },
  {
   "cell_type": "code",
   "execution_count": 179,
   "metadata": {
    "collapsed": false
   },
   "outputs": [
    {
     "name": "stdout",
     "output_type": "stream",
     "text": [
      "posts_count:  167 comments_count:  167\n"
     ]
    }
   ],
   "source": [
    "print('posts_count: ', posts_201601.count(), 'comments_count: ', comments_201601.count())"
   ]
  },
  {
   "cell_type": "markdown",
   "metadata": {},
   "source": [
    "## Test Again"
   ]
  },
  {
   "cell_type": "code",
   "execution_count": 180,
   "metadata": {
    "collapsed": false
   },
   "outputs": [],
   "source": [
    "posts_2015_early = db_posts.data201501_early\n",
    "comments_2015_early = db_comments.data201501_early"
   ]
  },
  {
   "cell_type": "code",
   "execution_count": 182,
   "metadata": {
    "collapsed": false
   },
   "outputs": [
    {
     "name": "stdout",
     "output_type": "stream",
     "text": [
      "CPU times: user 54.9 ms, sys: 5.68 ms, total: 60.6 ms\n",
      "Wall time: 642 ms\n"
     ]
    }
   ],
   "source": [
    "%%time\n",
    "\n",
    "# Test it out\n",
    "posts2015_early, comments2015_early = get_stuff(reddit, 'datascience',\n",
    "                                                    unix20150101, 2, posts_2015_early, comments_2015_early)"
   ]
  },
  {
   "cell_type": "code",
   "execution_count": 183,
   "metadata": {
    "collapsed": false
   },
   "outputs": [
    {
     "name": "stdout",
     "output_type": "stream",
     "text": [
      "['data201601', 'data201501_early']\n",
      "['data201501_early', 'data201601']\n"
     ]
    }
   ],
   "source": [
    "print(db_posts.collection_names())\n",
    "print(db_comments.collection_names())"
   ]
  },
  {
   "cell_type": "code",
   "execution_count": 185,
   "metadata": {
    "collapsed": false
   },
   "outputs": [
    {
     "name": "stdout",
     "output_type": "stream",
     "text": [
      "posts_count:  5 comments_count:  5\n"
     ]
    }
   ],
   "source": [
    "print('posts_count: ', posts_2015_early.count(), 'comments_count: ', comments_2015_early.count())"
   ]
  },
  {
   "cell_type": "markdown",
   "metadata": {},
   "source": [
    "## Get All Posts Since 20110101"
   ]
  },
  {
   "cell_type": "code",
   "execution_count": 188,
   "metadata": {
    "collapsed": false
   },
   "outputs": [
    {
     "data": {
      "text/plain": [
       "['admin',\n",
       " 'db_fletcher',\n",
       " 'fletcher_reddit_datascience_comments',\n",
       " 'fletcher_reddit_datascience_posts',\n",
       " 'local',\n",
       " 'shard_db']"
      ]
     },
     "execution_count": 188,
     "metadata": {},
     "output_type": "execute_result"
    }
   ],
   "source": [
    "client.database_names()"
   ]
  },
  {
   "cell_type": "code",
   "execution_count": 189,
   "metadata": {
    "collapsed": false
   },
   "outputs": [],
   "source": [
    "posts_since2011 = db_posts.data_since2011\n",
    "comments_since2011 = db_comments.data_since2011"
   ]
  },
  {
   "cell_type": "markdown",
   "metadata": {},
   "source": [
    "### Run on AWS"
   ]
  },
  {
   "cell_type": "code",
   "execution_count": 141,
   "metadata": {
    "collapsed": false
   },
   "outputs": [
    {
     "name": "stdout",
     "output_type": "stream",
     "text": [
      "CPU times: user 7.29 ms, sys: 1.56 ms, total: 8.85 ms\n",
      "Wall time: 63.4 ms\n"
     ]
    }
   ],
   "source": [
    "%%time\n",
    "\n",
    "posts_since2011, comments_since2011 = get_stuff(reddit, 'datascience', unix20110101, 2192, posts_since2011, comments_since2011)"
   ]
  },
  {
   "cell_type": "code",
   "execution_count": 190,
   "metadata": {
    "collapsed": false
   },
   "outputs": [
    {
     "name": "stdout",
     "output_type": "stream",
     "text": [
      "['data201601', 'data201501_early']\n",
      "['data201501_early', 'data201601']\n"
     ]
    }
   ],
   "source": [
    "print(db_posts.collection_names())\n",
    "print(db_comments.collection_names())"
   ]
  },
  {
   "cell_type": "code",
   "execution_count": 134,
   "metadata": {
    "collapsed": false
   },
   "outputs": [
    {
     "ename": "NameError",
     "evalue": "name 'comments_20130101' is not defined",
     "output_type": "error",
     "traceback": [
      "\u001b[0;31m---------------------------------------------------------------------------\u001b[0m",
      "\u001b[0;31mNameError\u001b[0m                                 Traceback (most recent call last)",
      "\u001b[0;32m<ipython-input-134-4c303c0833b9>\u001b[0m in \u001b[0;36m<module>\u001b[0;34m()\u001b[0m\n\u001b[0;32m----> 1\u001b[0;31m \u001b[0mprint\u001b[0m\u001b[0;34m(\u001b[0m\u001b[0;34m'posts_count: '\u001b[0m\u001b[0;34m,\u001b[0m \u001b[0mposts_20130101\u001b[0m\u001b[0;34m.\u001b[0m\u001b[0mcount\u001b[0m\u001b[0;34m(\u001b[0m\u001b[0;34m)\u001b[0m\u001b[0;34m,\u001b[0m \u001b[0;34m'comments_count: '\u001b[0m\u001b[0;34m,\u001b[0m \u001b[0mcomments_20130101\u001b[0m\u001b[0;34m.\u001b[0m\u001b[0mcount\u001b[0m\u001b[0;34m(\u001b[0m\u001b[0;34m)\u001b[0m\u001b[0;34m)\u001b[0m\u001b[0;34m\u001b[0m\u001b[0m\n\u001b[0m",
      "\u001b[0;31mNameError\u001b[0m: name 'comments_20130101' is not defined"
     ]
    }
   ],
   "source": [
    "print('posts_count: ', posts_since2011.count(), 'comments_count: ', comments_since2011.count())"
   ]
  },
  {
   "cell_type": "code",
   "execution_count": 30,
   "metadata": {
    "collapsed": false
   },
   "outputs": [],
   "source": [
    "#posts_test.drop()\n",
    "#comments_test.drop()"
   ]
  }
 ],
 "metadata": {
  "kernelspec": {
   "display_name": "Python 3",
   "language": "python",
   "name": "python3"
  },
  "language_info": {
   "codemirror_mode": {
    "name": "ipython",
    "version": 3
   },
   "file_extension": ".py",
   "mimetype": "text/x-python",
   "name": "python",
   "nbconvert_exporter": "python",
   "pygments_lexer": "ipython3",
   "version": "3.6.0"
  }
 },
 "nbformat": 4,
 "nbformat_minor": 2
}
