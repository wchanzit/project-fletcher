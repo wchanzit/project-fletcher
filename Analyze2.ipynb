{
 "cells": [
  {
   "cell_type": "code",
   "execution_count": 2,
   "metadata": {
    "collapsed": true
   },
   "outputs": [],
   "source": [
    "import pandas as pd\n",
    "import numpy as np\n",
    "\n",
    "import json #unsure if this is needed\n",
    "from pymongo import MongoClient"
   ]
  },
  {
   "cell_type": "code",
   "execution_count": 3,
   "metadata": {
    "collapsed": true
   },
   "outputs": [],
   "source": [
    "import pickle"
   ]
  },
  {
   "cell_type": "code",
   "execution_count": 4,
   "metadata": {
    "collapsed": false
   },
   "outputs": [
    {
     "data": {
      "text/plain": [
       "0"
      ]
     },
     "execution_count": 4,
     "metadata": {},
     "output_type": "execute_result"
    }
   ],
   "source": [
    "import gc\n",
    "gc.collect()"
   ]
  },
  {
   "cell_type": "markdown",
   "metadata": {
    "collapsed": true
   },
   "source": [
    "## Import Data"
   ]
  },
  {
   "cell_type": "code",
   "execution_count": 5,
   "metadata": {
    "collapsed": false
   },
   "outputs": [
    {
     "data": {
      "text/plain": [
       "['MongoClient', 'gc', 'json', 'np', 'pd', 'pickle']"
      ]
     },
     "execution_count": 5,
     "metadata": {},
     "output_type": "execute_result"
    }
   ],
   "source": [
    "%who_ls"
   ]
  },
  {
   "cell_type": "code",
   "execution_count": 6,
   "metadata": {
    "collapsed": true
   },
   "outputs": [],
   "source": [
    "with open('posts201601.pkl', 'rb') as pkl_in:\n",
    "    posts201601 = pickle.load(pkl_in)\n",
    "\n",
    "with open('comments201601.pkl', 'rb') as pkl_in:\n",
    "    comments201601 = pickle.load(pkl_in)\n"
   ]
  },
  {
   "cell_type": "code",
   "execution_count": 7,
   "metadata": {
    "collapsed": false
   },
   "outputs": [
    {
     "data": {
      "text/plain": [
       "['MongoClient',\n",
       " 'comments201601',\n",
       " 'gc',\n",
       " 'json',\n",
       " 'np',\n",
       " 'pd',\n",
       " 'pickle',\n",
       " 'pkl_in',\n",
       " 'posts201601']"
      ]
     },
     "execution_count": 7,
     "metadata": {},
     "output_type": "execute_result"
    }
   ],
   "source": [
    "%who_ls"
   ]
  },
  {
   "cell_type": "code",
   "execution_count": 40,
   "metadata": {
    "collapsed": true
   },
   "outputs": [],
   "source": [
    "# Turn post titles and selftext into a list of strings\n",
    "\n",
    "# Turn this into a list comprehension?\n",
    "def create_post_list(posts):\n",
    "    post_list = []\n",
    "\n",
    "    for post in posts:\n",
    "        for k, v in post.items():\n",
    "            if k in ['title', 'selftext'] and len(v) > 0:\n",
    "                post_list.append(v)\n",
    "\n",
    "    return post_list"
   ]
  },
  {
   "cell_type": "code",
   "execution_count": 38,
   "metadata": {
    "collapsed": true
   },
   "outputs": [],
   "source": [
    "# Turn comments into a list of strings.\n",
    "# Comments201601 is currently a list of dicts\n",
    "\n",
    "# Turn this into a list comprehension?\n",
    "def create_comment_list(comments):\n",
    "    comment_list = []\n",
    "\n",
    "    for post in comments:\n",
    "        for k, v in post.items():\n",
    "            if k.startswith('comment'):\n",
    "                comment_list.append(v)\n",
    "\n",
    "    return comment_list"
   ]
  },
  {
   "cell_type": "code",
   "execution_count": 27,
   "metadata": {
    "collapsed": false
   },
   "outputs": [
    {
     "name": "stdout",
     "output_type": "stream",
     "text": [
      "CPU times: user 380 µs, sys: 49 µs, total: 429 µs\n",
      "Wall time: 451 µs\n"
     ]
    }
   ],
   "source": [
    "%%time\n",
    "# Let's add post text to this as well\n",
    "# Now vestigal as well\n",
    "\n",
    "post_list_201601 = []\n",
    "\n",
    "for post in posts201601:\n",
    "    for k, v in post.items():\n",
    "#         print(k, ' : ', v)\n",
    "#         if isinstance(v, str):\n",
    "#             print(k, ', len(v) is: ', len(v))\n",
    "        if k in ['title', 'selftext'] and len(v) > 0:\n",
    "            post_list_201601.append(v)\n"
   ]
  },
  {
   "cell_type": "code",
   "execution_count": 29,
   "metadata": {
    "collapsed": false
   },
   "outputs": [
    {
     "name": "stdout",
     "output_type": "stream",
     "text": [
      "CPU times: user 796 µs, sys: 82 µs, total: 878 µs\n",
      "Wall time: 883 µs\n"
     ]
    }
   ],
   "source": [
    "%%time\n",
    "# Turn comments into a list of strings.\n",
    "# Comments201601 is currently a list of dicts\n",
    "# Now vestigal\n",
    "\n",
    "comment_list_201601 = []\n",
    "\n",
    "for post in comments201601:\n",
    "    for k, v in post.items():\n",
    "#         print(k, ' : ', v)\n",
    "        if k.startswith('comment'):\n",
    "            comment_list_201601.append(v)\n"
   ]
  },
  {
   "cell_type": "code",
   "execution_count": 32,
   "metadata": {
    "collapsed": false
   },
   "outputs": [
    {
     "name": "stdout",
     "output_type": "stream",
     "text": [
      "275\n",
      "1267\n"
     ]
    }
   ],
   "source": [
    "# Not enough \n",
    "print(len(post_list_201601))\n",
    "print(len(comment_list_201601))"
   ]
  },
  {
   "cell_type": "code",
   "execution_count": 43,
   "metadata": {
    "collapsed": false
   },
   "outputs": [],
   "source": [
    "post_list_201601_test = create_post_list(posts201601)\n",
    "comment_list_201601_test = create_comment_list(comments201601)"
   ]
  },
  {
   "cell_type": "code",
   "execution_count": 50,
   "metadata": {
    "collapsed": false
   },
   "outputs": [
    {
     "name": "stdout",
     "output_type": "stream",
     "text": [
      "True\n",
      "True\n"
     ]
    }
   ],
   "source": [
    "print(post_list_201601_test == post_list_201601)\n",
    "print(comment_list_201601_test == comment_list_201601)"
   ]
  },
  {
   "cell_type": "code",
   "execution_count": null,
   "metadata": {
    "collapsed": true
   },
   "outputs": [],
   "source": []
  },
  {
   "cell_type": "code",
   "execution_count": null,
   "metadata": {
    "collapsed": true
   },
   "outputs": [],
   "source": [
    "# Make lower case\n",
    "# Remove punctuation\n",
    "# Remove stop words\n",
    "#     remove hyplinks too -> so strings that startwith 'http'?\n",
    "# Lemmative/Stem (convert to root words)\n",
    "# Tokenize\n",
    "# One-hot encode\n",
    "# Feed into CountVectorizer() (n-grams of 1, 2)\n",
    "# tf-idf\n",
    "# LDA / topic modeling\n",
    "# Watch out for sparsity (high dimensionality plus relatively small data)\n",
    "# Potential additions: POS tagging, sentence chunking\n",
    "# Clustering (kmeans)\n",
    "# Do PCA?\n",
    "# Word2vec will be bonus\n",
    "\n",
    "# Also see notebook \"LSA and Classification\" (week 08 day 01) for a good overview"
   ]
  },
  {
   "cell_type": "code",
   "execution_count": null,
   "metadata": {
    "collapsed": true
   },
   "outputs": [],
   "source": [
    "# This is from LDA notebook, but it might contain useful info not in the originally relevant (NLTK?) notebook:\n",
    "\n",
    "# Create a CountVectorizer instance for parsing/counting words\n",
    "count_vectorizer = CountVectorizer(ngram_range=(1, 2),  \n",
    "                                   stop_words='english', \n",
    "                                   token_pattern=\"\\\\b[a-z][a-z]+\\\\b\")\n",
    "\n",
    "X = count_vectorizer.fit_transform(ng_train.data)"
   ]
  }
 ],
 "metadata": {
  "kernelspec": {
   "display_name": "Python 3",
   "language": "python",
   "name": "python3"
  },
  "language_info": {
   "codemirror_mode": {
    "name": "ipython",
    "version": 3
   },
   "file_extension": ".py",
   "mimetype": "text/x-python",
   "name": "python",
   "nbconvert_exporter": "python",
   "pygments_lexer": "ipython3",
   "version": "3.6.0"
  }
 },
 "nbformat": 4,
 "nbformat_minor": 2
}
