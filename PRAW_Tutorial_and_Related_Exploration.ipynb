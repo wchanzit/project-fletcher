{
 "cells": [
  {
   "cell_type": "code",
   "execution_count": 6,
   "metadata": {
    "collapsed": true
   },
   "outputs": [],
   "source": [
    "import pandas as pd\n",
    "import numpy as np\n",
    "\n",
    "import praw"
   ]
  },
  {
   "cell_type": "markdown",
   "metadata": {},
   "source": [
    "## Connect to Reddit"
   ]
  },
  {
   "cell_type": "code",
   "execution_count": 7,
   "metadata": {
    "collapsed": false
   },
   "outputs": [],
   "source": [
    "reddit = praw.Reddit(client_id = '9p5TdvPWFQ2rLQ',\n",
    "                     client_secret = 'dOvpA6FJO7UwkzbK6hRpbkX08gA',\n",
    "                     user_agent = 'test')"
   ]
  },
  {
   "cell_type": "markdown",
   "metadata": {},
   "source": [
    "#### https://praw.readthedocs.io/en/latest/tutorials/comments.html"
   ]
  },
  {
   "cell_type": "markdown",
   "metadata": {},
   "source": [
    "### Submission Object"
   ]
  },
  {
   "cell_type": "code",
   "execution_count": 8,
   "metadata": {
    "collapsed": false
   },
   "outputs": [],
   "source": [
    "# With URL\n",
    "submission = reddit.submission(url='https://www.reddit.com/r/funny/comments/3g1jfi/buttons/')\n",
    "\n",
    "# With comment ID\n",
    "#submission = reddit.submission(id='3g1jfi')"
   ]
  },
  {
   "cell_type": "markdown",
   "metadata": {},
   "source": [
    "#### This is a useful thing to remember in general. (Copy to a reference notebook?)"
   ]
  },
  {
   "cell_type": "code",
   "execution_count": 9,
   "metadata": {
    "collapsed": true
   },
   "outputs": [],
   "source": [
    "def method_list(obj):\n",
    "    return [method for method in dir(obj) if callable(getattr(obj, method)) and not method.startswith(\"__\")]"
   ]
  },
  {
   "cell_type": "code",
   "execution_count": 13,
   "metadata": {
    "collapsed": false
   },
   "outputs": [],
   "source": [
    "# This doesn't seem to work\n",
    "def attribute_list(obj):\n",
    "    [method for method in dir(obj) if not callable(getattr(obj, method)) and not method.startswith(\"__\")]"
   ]
  },
  {
   "cell_type": "code",
   "execution_count": 10,
   "metadata": {
    "collapsed": false
   },
   "outputs": [
    {
     "data": {
      "text/plain": [
       "['_fetch',\n",
       " '_info_path',\n",
       " '_reset_attributes',\n",
       " '_safely_add_arguments',\n",
       " '_vote',\n",
       " 'clear_vote',\n",
       " 'delete',\n",
       " 'downvote',\n",
       " 'duplicates',\n",
       " 'edit',\n",
       " 'gild',\n",
       " 'hide',\n",
       " 'id_from_url',\n",
       " 'parse',\n",
       " 'reply',\n",
       " 'report',\n",
       " 'save',\n",
       " 'unhide',\n",
       " 'unsave',\n",
       " 'upvote']"
      ]
     },
     "execution_count": 10,
     "metadata": {},
     "output_type": "execute_result"
    }
   ],
   "source": [
    "method_list(submission)"
   ]
  },
  {
   "cell_type": "code",
   "execution_count": 14,
   "metadata": {
    "collapsed": true
   },
   "outputs": [],
   "source": [
    "attribute_list(submission)"
   ]
  },
  {
   "cell_type": "code",
   "execution_count": 50,
   "metadata": {
    "collapsed": false
   },
   "outputs": [
    {
     "name": "stdout",
     "output_type": "stream",
     "text": [
      "1438918826.0\n"
     ]
    }
   ],
   "source": [
    "print(submission.created)\n",
    "print(submission.author)\n",
    "# print(...)\n",
    "\n",
    "#author is the OP username\n",
    "#likes returned None\n",
    "#name is t3_3gljfi (3gljfi is the post id)\n",
    "#num_comments is 775\n",
    "#num_reports is None\n",
    "#score is 36875\n",
    "#title is Buttons\n",
    "#view_count is None\n",
    "#visited is False\n"
   ]
  },
  {
   "cell_type": "markdown",
   "metadata": {},
   "source": [
    "### CommentForest Object"
   ]
  },
  {
   "cell_type": "code",
   "execution_count": null,
   "metadata": {
    "collapsed": true
   },
   "outputs": [],
   "source": [
    "# With a submission object we can then interact with its CommentForest through the submission’s comments attribute.\n",
    "# A CommentForest is a list of top-level comments each of which contains a CommentForest of replies."
   ]
  },
  {
   "cell_type": "code",
   "execution_count": null,
   "metadata": {
    "collapsed": true
   },
   "outputs": [],
   "source": [
    "# Not sure how this filters comments\n",
    "# Does top-down, but does that include children or just parent nodes?\n",
    "# What are the tie-breakers?"
   ]
  },
  {
   "cell_type": "code",
   "execution_count": 19,
   "metadata": {
    "collapsed": false
   },
   "outputs": [
    {
     "data": {
      "text/plain": [
       "\"It's always the plainest of the buttons.\""
      ]
     },
     "execution_count": 19,
     "metadata": {},
     "output_type": "execute_result"
    }
   ],
   "source": [
    "# replace_more(), list()\n",
    "submission.comments.replace_more(limit=0)\n",
    "comment_test = submission.comments.list()[0]\n",
    "comment_test.body\n"
   ]
  },
  {
   "cell_type": "code",
   "execution_count": 16,
   "metadata": {
    "collapsed": false
   },
   "outputs": [
    {
     "name": "stdout",
     "output_type": "stream",
     "text": [
      "CPU times: user 2.54 ms, sys: 411 µs, total: 2.95 ms\n",
      "Wall time: 2.9 ms\n"
     ]
    }
   ],
   "source": [
    "%%time\n",
    "\n",
    "sub_comments = []\n",
    "submission.comments.replace_more(limit=0)\n",
    "for comment in submission.comments.list():\n",
    "    \n",
    "    sub_comments.append(comment.body)\n",
    "    #print(comment.body)\n",
    "    #author, depth, score\n",
    "    \n",
    "    #print(comment.created)\n",
    "    "
   ]
  },
  {
   "cell_type": "code",
   "execution_count": null,
   "metadata": {
    "collapsed": true
   },
   "outputs": [],
   "source": [
    "# from CommentForest documentation, toward bottom\n",
    "# while True:\n",
    "#     try:\n",
    "#         submission.comments.replace_more()\n",
    "#         break\n",
    "#     except PossibleExceptions:\n",
    "#         print('Handling replace_more exception')\n",
    "#         sleep(1)"
   ]
  }
 ],
 "metadata": {
  "kernelspec": {
   "display_name": "Python 3",
   "language": "python",
   "name": "python3"
  },
  "language_info": {
   "codemirror_mode": {
    "name": "ipython",
    "version": 3
   },
   "file_extension": ".py",
   "mimetype": "text/x-python",
   "name": "python",
   "nbconvert_exporter": "python",
   "pygments_lexer": "ipython3",
   "version": "3.6.0"
  }
 },
 "nbformat": 4,
 "nbformat_minor": 2
}
